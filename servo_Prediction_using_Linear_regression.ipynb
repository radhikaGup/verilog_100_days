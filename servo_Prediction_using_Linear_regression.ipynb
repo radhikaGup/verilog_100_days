{
  "nbformat": 4,
  "nbformat_minor": 0,
  "metadata": {
    "colab": {
      "provenance": [],
      "authorship_tag": "ABX9TyO6IZT9u908hum9DdoaXI1P",
      "include_colab_link": true
    },
    "kernelspec": {
      "name": "python3",
      "display_name": "Python 3"
    },
    "language_info": {
      "name": "python"
    }
  },
  "cells": [
    {
      "cell_type": "markdown",
      "metadata": {
        "id": "view-in-github",
        "colab_type": "text"
      },
      "source": [
        "<a href=\"https://colab.research.google.com/github/radhikaGup/Radhika123/blob/main/servo_Prediction_using_Linear_regression.ipynb\" target=\"_parent\"><img src=\"https://colab.research.google.com/assets/colab-badge.svg\" alt=\"Open In Colab\"/></a>"
      ]
    },
    {
      "cell_type": "code",
      "execution_count": 3,
      "metadata": {
        "colab": {
          "base_uri": "https://localhost:8080/",
          "height": 675
        },
        "id": "fIWG4R06eqnc",
        "outputId": "1b0be0ad-1bbe-48e9-e3b4-25253fe54a17"
      },
      "outputs": [
        {
          "output_type": "stream",
          "name": "stdout",
          "text": [
            "<class 'pandas.core.frame.DataFrame'>\n",
            "RangeIndex: 167 entries, 0 to 166\n",
            "Data columns (total 5 columns):\n",
            " #   Column  Non-Null Count  Dtype \n",
            "---  ------  --------------  ----- \n",
            " 0   Motor   167 non-null    object\n",
            " 1   Screw   167 non-null    object\n",
            " 2   Pgain   167 non-null    int64 \n",
            " 3   Vgain   167 non-null    int64 \n",
            " 4   Class   167 non-null    int64 \n",
            "dtypes: int64(3), object(2)\n",
            "memory usage: 6.6+ KB\n"
          ]
        },
        {
          "output_type": "display_data",
          "data": {
            "text/plain": [
              "<Figure size 640x480 with 1 Axes>"
            ],
            "image/png": "[encoded data removed]"
          },
          "metadata": {}
        },
        {
          "output_type": "execute_result",
          "data": {
            "text/plain": [
              "array([20.0908929])"
            ]
          },
          "metadata": {},
          "execution_count": 3
        }
      ],
      "source": [
        "#servo prediction using linear regression\n",
        "#import different file\n",
        "import pandas as pd\n",
        "import numpy as np\n",
        "# import csv file as dataframe\n",
        "df=pd.read_csv('https://github.com/YBI-Foundation/Dataset/raw/main/Servo%20Mechanism.csv')\n",
        "#get first five row\n",
        "df.head()\n",
        "#get information\n",
        "df.info()\n",
        "#get the summary statistics\n",
        "df.describe()\n",
        "#get coloum name\n",
        "df.columns\n",
        "#get shape of data\n",
        "df.shape\n",
        "df[['Motor']].value_counts()\n",
        "df[['Screw']].value_counts()\n",
        "#encoding of feature\n",
        "df.replace({'Motor':{'A':0,'B':1,'C':2,'D':3,'E':4}},inplace=True)\n",
        "df.replace({'Screw':{'A':0,'B':1,'C':2,'D':3,'E':4}},inplace=True)\n",
        "#dependent and indepentfeature\n",
        "y=df['Class']\n",
        "y.shape\n",
        "y\n",
        "x=df[['Motor','Screw','Pgain','Vgain']]\n",
        "\n",
        "x=df.drop('Class',axis=1)\n",
        "x.shape\n",
        "x\n",
        "#get train test split\n",
        "from sklearn.model_selection import train_test_split\n",
        "x_train,x_test,y_train,y_test = train_test_split(x,y,test_size = 0.3, random_state=2529)\n",
        "x_train.shape, x_test.shape, y_train.shape,  y_test.shape\n",
        "#get model train\n",
        "from sklearn.linear_model import LinearRegression\n",
        "lr = LinearRegression()\n",
        "lr.fit(x_train, y_train)\n",
        "#get model Prediction\n",
        "y_pred = lr.predict(x_test)\n",
        "y_pred.shape\n",
        "y_pred\n",
        "from sklearn.metrics import mean_squared_error,mean_absolute_error, r2_score\n",
        "mean_squared_error(y_test,y_pred)\n",
        "mean_absolute_error(y_test,y_pred)\n",
        "r2_score(y_test,y_pred)\n",
        "#get visualisation of actual vs predicted results\n",
        "import matplotlib.pyplot as plt\n",
        "plt.scatter(y_test,y_pred)\n",
        "plt.xlabel(\"Actual\")\n",
        "plt.ylabel(\"Predicted\")\n",
        "plt.xlabel(\"Actual vs Predicted\")\n",
        "plt.show()\n",
        "#get future prediction\n",
        "x_new = df.sample(1)\n",
        "x_new\n",
        "x_new.shape\n",
        "x_new = x_new.drop('Class', axis =1)\n",
        "x_new\n",
        "x_new.shape\n",
        "y_pred_new = lr.predict(x_new)\n",
        "y_pred_new\n",
        "\n"
      ]
    }
  ]
}